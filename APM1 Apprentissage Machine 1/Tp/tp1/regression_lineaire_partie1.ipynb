{
 "cells": [
  {
   "cell_type": "code",
   "execution_count": 1,
   "metadata": {},
   "outputs": [],
   "source": [
    "# TP1 Régression lineaire"
   ]
  },
  {
   "cell_type": "markdown",
   "metadata": {},
   "source": [
    "## I- Régression linéaire simple (prédire une variable expliquée à partir d'une seule variable explicative)"
   ]
  },
  {
   "cell_type": "markdown",
   "metadata": {},
   "source": [
    "## Dans cette premiere partie de ce TP, vous devez implémenter la régression linéaire simple.  \n",
    "## Vous allez prédire le poids d'une personne en fonction de sa taille"
   ]
  },
  {
   "cell_type": "markdown",
   "metadata": {},
   "source": [
    "### I-1. importation des librairies"
   ]
  },
  {
   "cell_type": "code",
   "execution_count": 2,
   "metadata": {},
   "outputs": [],
   "source": [
    "%matplotlib qt\n",
    "import numpy as np\n",
    "import matplotlib.pyplot as pl\n",
    "import pandas as pd\n"
   ]
  },
  {
   "cell_type": "markdown",
   "metadata": {},
   "source": [
    "### I-2. Création du dataset d'entrainement-"
   ]
  },
  {
   "cell_type": "code",
   "execution_count": 3,
   "metadata": {},
   "outputs": [
    {
     "data": {
      "text/html": [
       "<div>\n",
       "<style scoped>\n",
       "    .dataframe tbody tr th:only-of-type {\n",
       "        vertical-align: middle;\n",
       "    }\n",
       "\n",
       "    .dataframe tbody tr th {\n",
       "        vertical-align: top;\n",
       "    }\n",
       "\n",
       "    .dataframe thead th {\n",
       "        text-align: right;\n",
       "    }\n",
       "</style>\n",
       "<table border=\"1\" class=\"dataframe\">\n",
       "  <thead>\n",
       "    <tr style=\"text-align: right;\">\n",
       "      <th></th>\n",
       "      <th>Taille</th>\n",
       "      <th>Poids</th>\n",
       "    </tr>\n",
       "  </thead>\n",
       "  <tbody>\n",
       "    <tr>\n",
       "      <td>0</td>\n",
       "      <td>160.0</td>\n",
       "      <td>66.00</td>\n",
       "    </tr>\n",
       "    <tr>\n",
       "      <td>1</td>\n",
       "      <td>165.0</td>\n",
       "      <td>68.23</td>\n",
       "    </tr>\n",
       "    <tr>\n",
       "      <td>2</td>\n",
       "      <td>170.0</td>\n",
       "      <td>70.44</td>\n",
       "    </tr>\n",
       "    <tr>\n",
       "      <td>3</td>\n",
       "      <td>175.0</td>\n",
       "      <td>71.29</td>\n",
       "    </tr>\n",
       "    <tr>\n",
       "      <td>4</td>\n",
       "      <td>180.0</td>\n",
       "      <td>73.86</td>\n",
       "    </tr>\n",
       "    <tr>\n",
       "      <td>5</td>\n",
       "      <td>185.0</td>\n",
       "      <td>74.68</td>\n",
       "    </tr>\n",
       "  </tbody>\n",
       "</table>\n",
       "</div>"
      ],
      "text/plain": [
       "   Taille  Poids\n",
       "0   160.0  66.00\n",
       "1   165.0  68.23\n",
       "2   170.0  70.44\n",
       "3   175.0  71.29\n",
       "4   180.0  73.86\n",
       "5   185.0  74.68"
      ]
     },
     "execution_count": 3,
     "metadata": {},
     "output_type": "execute_result"
    }
   ],
   "source": [
    "X_train = np.array([160.0, 165.0, 170.0, 175.0,180.0, 185.0, 190])  # taille\n",
    "y_train = np.array([66, 68.23, 70.44, 71.29, 73.86,74.68,76.28])    # poids\n",
    "\n",
    "X_test = np.array([155,157,175.0, 180.0])  # taille\n",
    "y_test = np.array([60,64,70, 72])    # poids\n",
    "\n",
    "# Arranging in DataFrame\n",
    "\n",
    "df = pd.DataFrame({\n",
    "'Taille' :X_train ,\n",
    "'Poids' : y_train\n",
    "})\n",
    "\n",
    "df.head(6)"
   ]
  },
  {
   "cell_type": "markdown",
   "metadata": {},
   "source": [
    "### I-3. afficher les données"
   ]
  },
  {
   "cell_type": "code",
   "execution_count": 5,
   "metadata": {},
   "outputs": [
    {
     "data": {
      "text/plain": [
       "Text(0, 0.5, 'Poids')"
      ]
     },
     "execution_count": 5,
     "metadata": {},
     "output_type": "execute_result"
    }
   ],
   "source": [
    "pl.scatter(X_train,y_train,color='black')\n",
    "pl.scatter(X_test,y_test,color='red')\n",
    "# set the axis lables names\n",
    "pl.xlabel(\"Taille\")\n",
    "pl.ylabel(\"Poids\")\n"
   ]
  },
  {
   "cell_type": "markdown",
   "metadata": {},
   "source": [
    " ### I-4. La méthode des moidres carrés"
   ]
  },
  {
   "cell_type": "markdown",
   "metadata": {},
   "source": [
    "La formule pour estimer le résultat est : \\$\\$\\hat{Y} = a0 +a1 X\\$\\$\n",
    "\n",
    "vous allez appliquer la méthode des moindres carrés pour trouver les deux parametres a0 et a1 qui minimisent\n",
    "le taux d'erreur entre les résultats \\$\\hat{Y}\\$ estimés et \\$Y\\$ réels."
   ]
  },
  {
   "attachments": {
    "image.png": {
     "image/png": "[encoded data removed]"
    }
   },
   "cell_type": "markdown",
   "metadata": {},
   "source": [
    " ![image.png](attachment:image.png)"
   ]
  },
  {
   "attachments": {
    "image.png": {
     "image/png": "[encoded data removed]"
    }
   },
   "cell_type": "markdown",
   "metadata": {},
   "source": [
    " ![image.png](attachment:image.png)"
   ]
  },
  {
   "cell_type": "markdown",
   "metadata": {},
   "source": [
    "### I-4-1. Calcul des coefficients "
   ]
  },
  {
   "cell_type": "code",
   "execution_count": 132,
   "metadata": {},
   "outputs": [
    {
     "name": "stdout",
     "output_type": "stream",
     "text": [
      "a0= 12.58999999999999 a1= 0.33685714285714297\n"
     ]
    }
   ],
   "source": [
    "# Todo\n",
    "# ecrire la fonction calcul_coeff qui retourne les parametres a0 et a1 \n",
    "### selon l'equation\n",
    "def calcul_coeff(X,y):\n",
    "    \"\"\"\n",
    "    Args:\n",
    "      X (ndarray (n,)): Data train, n examples \n",
    "      y (ndarray (n,)): target train values\n",
    "    \"\"\" \n",
    "     \n",
    "    return(a1,a0)\n",
    "\n",
    " \n",
    "    \n",
    "a1,a0=calcul_coeff(X_train,y_train)\n",
    " \n",
    "print(\"a0=\",a0,\"a1=\",a1)\n",
    "\n"
   ]
  },
  {
   "cell_type": "markdown",
   "metadata": {},
   "source": [
    "### I-4-2.. La fonction coût"
   ]
  },
  {
   "cell_type": "markdown",
   "metadata": {},
   "source": [
    "La fonction du coût calcule l'erreur entre les valeurs estimées\n",
    "(\\$\\hat{Y}\\$) et les valeurs réelles (\\$Y\\$). \n",
    "\n",
    "Etant donné un dataset avec \\$n\\$ données, la fonction coût est définie comme suit:\n",
    "\n",
    "\\$\\$J = \\frac{1}{n} \\sum\\limits\\_{i=1}^{n}\n",
    "(Y - \\hat{Y})^2\\$\\$\n"
   ]
  },
  {
   "cell_type": "code",
   "execution_count": 135,
   "metadata": {},
   "outputs": [
    {
     "name": "stdout",
     "output_type": "stream",
     "text": [
      "0.1712693877551004\n"
     ]
    }
   ],
   "source": [
    "# TODO\n",
    "def compute_cost(x, y, a1,a0): \n",
    "    \"\"\"\n",
    "    Calculer la fonction coût J .\n",
    "     \n",
    "    Args:\n",
    "      x (ndarray (n,))  : Data, n examples \n",
    "      y (ndarray (n,))  : target values\n",
    "      a1,a0 (scalar)    : model parameters  \n",
    "    \n",
    "    Returns\n",
    "        total_cost (float)\n",
    "    \"\"\"\n",
    "    # number of training examples\n",
    "     \n",
    "     \n",
    "    return total_cost\n",
    "\n",
    "\n",
    "Cost=compute_cost(X_train, y_train, a1,a0)\n",
    "print(Cost)\n"
   ]
  },
  {
   "cell_type": "code",
   "execution_count": null,
   "metadata": {},
   "outputs": [],
   "source": [
    "### I-4-3.. Faire la prédiction \\$\\$\\hat{Y} = a0 +a1 X\\$\\$"
   ]
  },
  {
   "cell_type": "code",
   "execution_count": 136,
   "metadata": {},
   "outputs": [],
   "source": [
    "#TODO\n",
    "def predire(X,a0,a1):\n",
    "    \"\"\"\n",
    "    Calculer  y_hat.\n",
    "     \n",
    "    Args:\n",
    "      x (ndarray (n,)): Data, n examples \n",
    "      a0,a1 (scalar)    : model parameters  \n",
    "    \n",
    "    Returns\n",
    "        y_hat\n",
    "    \"\"\"\n",
    "     \n",
    "    return(y_hat)"
   ]
  },
  {
   "cell_type": "markdown",
   "metadata": {},
   "source": [
    "### I-4-4. Afficher la droite de régression linéaire simple"
   ]
  },
  {
   "cell_type": "code",
   "execution_count": 138,
   "metadata": {},
   "outputs": [
    {
     "data": {
      "text/plain": [
       "[<matplotlib.lines.Line2D at 0x16b1e99c7c8>]"
      ]
     },
     "execution_count": 138,
     "metadata": {},
     "output_type": "execute_result"
    }
   ],
   "source": [
    "pl.scatter(X_train,y_train,color='black')\n",
    "y_pred = predire(X_train,a0,a1)\n",
    "pl.scatter(X_train,y_pred,color='red')\n",
    "# set the axis lables names\n",
    "pl.xlabel(\"Taille\")\n",
    "pl.ylabel(\"Poids\")\n",
    "pl.plot(X_train,y_pred,color='blue') \n"
   ]
  },
  {
   "cell_type": "code",
   "execution_count": 13,
   "metadata": {},
   "outputs": [
    {
     "data": {
      "image/png": "[encoded data removed]",
      "text/plain": [
       "<Figure size 432x288 with 1 Axes>"
      ]
     },
     "metadata": {
      "needs_background": "light"
     },
     "output_type": "display_data"
    }
   ],
   "source": [
    "from mpl_toolkits import mplot3d\n",
    "m, b = a1, a0\n",
    " \n",
    "\n",
    "fig = pl.figure()\n",
    "ax = fig.add_subplot(111, projection='3d')\n",
    "\n",
    "ms = np.linspace(0.05, 0.3,40)\n",
    "bs = np.linspace(0.1, 8.5, 15)\n",
    "\n",
    "M, B = np.meshgrid(ms, bs)\n",
    "zs = np.array([compute_cost(X_train,y_train,bp,mp) \n",
    "               for mp, bp in zip(np.ravel(M), np.ravel(B))])\n",
    "Z = zs.reshape(M.shape)\n",
    "\n",
    "ax.plot_surface(M, B, Z, rstride=1, cstride=1, color='b', alpha=0.5)\n",
    "\n",
    "ax.set_xlabel('a1')\n",
    "ax.set_ylabel('a0')\n",
    "ax.set_zlabel('error')\n",
    "\n",
    "pl.show()"
   ]
  },
  {
   "cell_type": "markdown",
   "metadata": {},
   "source": [
    "# I-5. Régression lineaire avec scikit-learn"
   ]
  },
  {
   "cell_type": "code",
   "execution_count": 7,
   "metadata": {
    "scrolled": true
   },
   "outputs": [
    {
     "name": "stdout",
     "output_type": "stream",
     "text": [
      "Intercept: \n",
      " 12.589999999999975\n",
      "Coefficients: \n",
      " [0.33685714]\n"
     ]
    }
   ],
   "source": [
    "from sklearn.linear_model import LinearRegression\n",
    "X_train = np.array([160.0, 165.0, 170.0, 175.0,180.0, 185.0, 190])  # taille\n",
    "X_train=np.array(X_train)\n",
    "y_train = np.array([66, 68.23, 70.44, 71.29, 73.86,74.68,76.28])    # poids\n",
    "\n",
    "XX_train=np.array(X_train).reshape(X_train.shape[0],1)\n",
    "Regressor=LinearRegression()\n",
    "Regressor.fit(XX_train,y_train)\n",
    "\n",
    "print('Intercept: \\n', Regressor.intercept_)\n",
    "print('Coefficients: \\n', Regressor.coef_)\n"
   ]
  },
  {
   "cell_type": "code",
   "execution_count": 13,
   "metadata": {},
   "outputs": [
    {
     "name": "stdout",
     "output_type": "stream",
     "text": [
      "la fonction J= 0.1712693877551004\n"
     ]
    }
   ],
   "source": [
    "#Calculer la fonction coût en utilisant la fonction de l'erreur quadratique moyenne (MSE: mean square error) de Sklearn.\n",
    "from sklearn.metrics import mean_squared_error\n",
    "MSE= mean_squared_error(y_train, Regressor.predict(XX_train))\n",
    "print(\"la fonction J=\", MSE)"
   ]
  },
  {
   "cell_type": "markdown",
   "metadata": {},
   "source": [
    "### I-6. tester le modele de regression lineaire avec scikit-learn"
   ]
  },
  {
   "cell_type": "code",
   "execution_count": 8,
   "metadata": {},
   "outputs": [
    {
     "name": "stdout",
     "output_type": "stream",
     "text": [
      "Prediction on training set:\n",
      " [66.48714286 68.17142857 69.85571429 71.54      ]\n",
      "Target values \n",
      " [66.   68.23 70.44 71.29]\n",
      "Prediction on testing set:\n",
      " [64.80285714 65.47657143 71.54       73.22428571]\n",
      "Target values \n",
      " [60 64 70 72]\n"
     ]
    }
   ],
   "source": [
    "X_test=np.array(X_test).reshape(X_test.shape[0],1)\n",
    "y_predict=Regressor.predict(X_test)\n",
    "pl.scatter(X_test,y_test,color='red')\n",
    "pl.scatter(X_test,y_predict,color='green')\n",
    "print(f\"Prediction on training set:\\n {Regressor.predict(XX_train)[:4]}\" )\n",
    "print(f\"Target values \\n {y_train[:4]}\")\n",
    "\n",
    "print(f\"Prediction on testing set:\\n {Regressor.predict(X_test)[:4]}\" )\n",
    "print(f\"Target values \\n {y_test[:4]}\")"
   ]
  },
  {
   "cell_type": "code",
   "execution_count": null,
   "metadata": {},
   "outputs": [],
   "source": []
  }
 ],
 "metadata": {
  "kernelspec": {
   "display_name": "Python 3",
   "language": "python",
   "name": "python3"
  },
  "language_info": {
   "codemirror_mode": {
    "name": "ipython",
    "version": 3
   },
   "file_extension": ".py",
   "mimetype": "text/x-python",
   "name": "python",
   "nbconvert_exporter": "python",
   "pygments_lexer": "ipython3",
   "version": "3.7.4"
  }
 },
 "nbformat": 4,
 "nbformat_minor": 2
}
