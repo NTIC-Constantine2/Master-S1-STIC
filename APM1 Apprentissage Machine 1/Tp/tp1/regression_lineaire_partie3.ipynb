{
 "cells": [
  {
   "cell_type": "code",
   "execution_count": null,
   "metadata": {},
   "outputs": [],
   "source": [
    "# TP1 Régression lineaire"
   ]
  },
  {
   "cell_type": "markdown",
   "metadata": {},
   "source": [
    "### Importation des librairies"
   ]
  },
  {
   "cell_type": "code",
   "execution_count": 4,
   "metadata": {},
   "outputs": [],
   "source": [
    "%matplotlib qt\n",
    "import numpy as np\n",
    "import matplotlib.pyplot as pl\n",
    "import pandas as pd\n"
   ]
  },
  {
   "cell_type": "markdown",
   "metadata": {},
   "source": [
    "## III- Régression linéaire multiple avec l'algorithme de descente du gradient"
   ]
  },
  {
   "cell_type": "markdown",
   "metadata": {},
   "source": [
    "### III-1. Lecture des données "
   ]
  },
  {
   "cell_type": "code",
   "execution_count": 5,
   "metadata": {},
   "outputs": [],
   "source": [
    "df = pd.read_csv('../house.txt')"
   ]
  },
  {
   "cell_type": "markdown",
   "metadata": {},
   "source": [
    "### III-2. Conversion du txt vers csv"
   ]
  },
  {
   "cell_type": "code",
   "execution_count": 6,
   "metadata": {
    "scrolled": true
   },
   "outputs": [
    {
     "data": {
      "text/html": [
       "<div>\n",
       "<style scoped>\n",
       "    .dataframe tbody tr th:only-of-type {\n",
       "        vertical-align: middle;\n",
       "    }\n",
       "\n",
       "    .dataframe tbody tr th {\n",
       "        vertical-align: top;\n",
       "    }\n",
       "\n",
       "    .dataframe thead th {\n",
       "        text-align: right;\n",
       "    }\n",
       "</style>\n",
       "<table border=\"1\" class=\"dataframe\">\n",
       "  <thead>\n",
       "    <tr style=\"text-align: right;\">\n",
       "      <th></th>\n",
       "      <th>area</th>\n",
       "      <th>bedrooms</th>\n",
       "      <th>floors</th>\n",
       "      <th>age</th>\n",
       "      <th>price</th>\n",
       "    </tr>\n",
       "  </thead>\n",
       "  <tbody>\n",
       "    <tr>\n",
       "      <td>0</td>\n",
       "      <td>952.0</td>\n",
       "      <td>2.0</td>\n",
       "      <td>1.0</td>\n",
       "      <td>65.0</td>\n",
       "      <td>271.5</td>\n",
       "    </tr>\n",
       "    <tr>\n",
       "      <td>1</td>\n",
       "      <td>1244.0</td>\n",
       "      <td>3.0</td>\n",
       "      <td>1.0</td>\n",
       "      <td>64.0</td>\n",
       "      <td>300.0</td>\n",
       "    </tr>\n",
       "    <tr>\n",
       "      <td>2</td>\n",
       "      <td>1947.0</td>\n",
       "      <td>3.0</td>\n",
       "      <td>2.0</td>\n",
       "      <td>17.0</td>\n",
       "      <td>509.8</td>\n",
       "    </tr>\n",
       "    <tr>\n",
       "      <td>3</td>\n",
       "      <td>1725.0</td>\n",
       "      <td>3.0</td>\n",
       "      <td>2.0</td>\n",
       "      <td>42.0</td>\n",
       "      <td>394.0</td>\n",
       "    </tr>\n",
       "    <tr>\n",
       "      <td>4</td>\n",
       "      <td>1959.0</td>\n",
       "      <td>3.0</td>\n",
       "      <td>2.0</td>\n",
       "      <td>15.0</td>\n",
       "      <td>540.0</td>\n",
       "    </tr>\n",
       "  </tbody>\n",
       "</table>\n",
       "</div>"
      ],
      "text/plain": [
       "     area  bedrooms  floors   age  price\n",
       "0   952.0       2.0     1.0  65.0  271.5\n",
       "1  1244.0       3.0     1.0  64.0  300.0\n",
       "2  1947.0       3.0     2.0  17.0  509.8\n",
       "3  1725.0       3.0     2.0  42.0  394.0\n",
       "4  1959.0       3.0     2.0  15.0  540.0"
      ]
     },
     "execution_count": 6,
     "metadata": {},
     "output_type": "execute_result"
    }
   ],
   "source": [
    "df.to_csv('./house.csv',index=False)\n",
    "features=['area','bedrooms','floors','age','price']\n",
    "house = pd.read_csv('./house.csv',names=features)\n",
    "house.head()"
   ]
  },
  {
   "cell_type": "markdown",
   "metadata": {},
   "source": [
    "### III-3. extraction des features et du label"
   ]
  },
  {
   "cell_type": "code",
   "execution_count": 7,
   "metadata": {},
   "outputs": [],
   "source": [
    "X=house.iloc[:,:4]   # diviser house data en X (features) et y (labels)\n",
    "y=house.iloc[:,4]"
   ]
  },
  {
   "cell_type": "code",
   "execution_count": 8,
   "metadata": {},
   "outputs": [
    {
     "data": {
      "text/html": [
       "<div>\n",
       "<style scoped>\n",
       "    .dataframe tbody tr th:only-of-type {\n",
       "        vertical-align: middle;\n",
       "    }\n",
       "\n",
       "    .dataframe tbody tr th {\n",
       "        vertical-align: top;\n",
       "    }\n",
       "\n",
       "    .dataframe thead th {\n",
       "        text-align: right;\n",
       "    }\n",
       "</style>\n",
       "<table border=\"1\" class=\"dataframe\">\n",
       "  <thead>\n",
       "    <tr style=\"text-align: right;\">\n",
       "      <th></th>\n",
       "      <th>area</th>\n",
       "      <th>bedrooms</th>\n",
       "      <th>floors</th>\n",
       "      <th>age</th>\n",
       "    </tr>\n",
       "  </thead>\n",
       "  <tbody>\n",
       "    <tr>\n",
       "      <td>0</td>\n",
       "      <td>952.0</td>\n",
       "      <td>2.0</td>\n",
       "      <td>1.0</td>\n",
       "      <td>65.0</td>\n",
       "    </tr>\n",
       "    <tr>\n",
       "      <td>1</td>\n",
       "      <td>1244.0</td>\n",
       "      <td>3.0</td>\n",
       "      <td>1.0</td>\n",
       "      <td>64.0</td>\n",
       "    </tr>\n",
       "    <tr>\n",
       "      <td>2</td>\n",
       "      <td>1947.0</td>\n",
       "      <td>3.0</td>\n",
       "      <td>2.0</td>\n",
       "      <td>17.0</td>\n",
       "    </tr>\n",
       "    <tr>\n",
       "      <td>3</td>\n",
       "      <td>1725.0</td>\n",
       "      <td>3.0</td>\n",
       "      <td>2.0</td>\n",
       "      <td>42.0</td>\n",
       "    </tr>\n",
       "    <tr>\n",
       "      <td>4</td>\n",
       "      <td>1959.0</td>\n",
       "      <td>3.0</td>\n",
       "      <td>2.0</td>\n",
       "      <td>15.0</td>\n",
       "    </tr>\n",
       "  </tbody>\n",
       "</table>\n",
       "</div>"
      ],
      "text/plain": [
       "     area  bedrooms  floors   age\n",
       "0   952.0       2.0     1.0  65.0\n",
       "1  1244.0       3.0     1.0  64.0\n",
       "2  1947.0       3.0     2.0  17.0\n",
       "3  1725.0       3.0     2.0  42.0\n",
       "4  1959.0       3.0     2.0  15.0"
      ]
     },
     "execution_count": 8,
     "metadata": {},
     "output_type": "execute_result"
    }
   ],
   "source": [
    "X.head()"
   ]
  },
  {
   "cell_type": "code",
   "execution_count": 9,
   "metadata": {},
   "outputs": [
    {
     "data": {
      "text/plain": [
       "0    271.5\n",
       "1    300.0\n",
       "2    509.8\n",
       "3    394.0\n",
       "4    540.0\n",
       "Name: price, dtype: float64"
      ]
     },
     "execution_count": 9,
     "metadata": {},
     "output_type": "execute_result"
    }
   ],
   "source": [
    "y.head()"
   ]
  },
  {
   "cell_type": "markdown",
   "metadata": {},
   "source": [
    "### III-4. Division du dataset en données d'entrainement et données de test"
   ]
  },
  {
   "cell_type": "code",
   "execution_count": 10,
   "metadata": {},
   "outputs": [],
   "source": [
    "X=np.array(X)\n",
    "from sklearn.model_selection import train_test_split\n",
    "X_train,X_test,y_train,y_test=train_test_split(X,y,test_size=1/3,random_state=0)\n"
   ]
  },
  {
   "cell_type": "markdown",
   "metadata": {},
   "source": [
    "### II-5. La prédiction"
   ]
  },
  {
   "cell_type": "markdown",
   "metadata": {},
   "source": [
    "Soit \\$X\\$ les données et \\$N\\$ le nombre de parametres du modèle de régression linéaire. \n",
    "\n",
    "On cherche à prédire: \\$\\$\\hat{Y} = \\sum\\limits\\_{j=0}^{N} a_j X_j\\$\\$ avec \\$\\$X_0=1\\$\\$\n",
    "\n",
    "Le but de l'algorithme de descente du gradient est de trouver les parametres \\$a_j\\$ qui minimisent la fonction coût\n",
    " "
   ]
  },
  {
   "cell_type": "code",
   "execution_count": 6,
   "metadata": {},
   "outputs": [],
   "source": [
    "# todo\n",
    "\n",
    "# Ecrire la fonction prédiction qui estime y_hat\n",
    "def prediction(X,a):\n",
    "    \"\"\"\n",
    "    Calculer  y_hat.\n",
    "     \n",
    "    Args:\n",
    "      X (ndarray (n,)): Data, n examples \n",
    "      a               : model parameters  \n",
    "    \n",
    "    Returns\n",
    "        y_hat\n",
    "    \"\"\"\n",
    "    \n",
    "    # retourne y_hat\n",
    " \n",
    "      "
   ]
  },
  {
   "cell_type": "code",
   "execution_count": null,
   "metadata": {},
   "outputs": [],
   "source": [
    "### III-6. La fonction coût\n",
    "\n",
    "La fonction du coût J est définie comme suit:\n",
    "\n",
    "\\$\\$J =  \\frac{1}{2n} \\sum\\limits\\_{i=1}^{n}\n",
    "(Y - \\hat{Y})^2\\$\\$\n"
   ]
  },
  {
   "cell_type": "code",
   "execution_count": 7,
   "metadata": {},
   "outputs": [],
   "source": [
    "#todo\n",
    "#La fonction coût à minimiser est donnée par la formule suivante:\n",
    "\n",
    "\n",
    "\n",
    "def J(X,Y,a):\n",
    "    \"\"\"\n",
    "    Calculer  J.\n",
    "     \n",
    "    Args:\n",
    "        X (ndarray):  n samples \n",
    "        Y (ndarray):  n Target labels   \n",
    "        a  (ndarray):  p parameters models\n",
    "           \n",
    "     \n",
    "    \n",
    "    Returns\n",
    "        J\n",
    "    \"\"\"\n",
    "    \n",
    "    return J\n",
    "     "
   ]
  },
  {
   "cell_type": "markdown",
   "metadata": {},
   "source": [
    "### III-7. Calcul des dérivées partielles"
   ]
  },
  {
   "cell_type": "markdown",
   "metadata": {},
   "source": [
    "On calcule les dérivées partielles ppur chaque parametre comme suit: \n",
    "\n",
    "\\$\\$\\frac{\\partial J}{\\partial a_j} = \\frac{\\partial }{\\partial a_j} \\frac{1}{2n} \\sum\\limits\\_{i=1}^{n} (Y -\\hat{Y})^2\\$\\$\n",
    " \n",
    "\n",
    "\\$\\$\\frac{\\partial J}{\\partial a_j} = \\frac{1}{n} \\sum\\limits\\_{i=1}^{n} -(Y^{(i)} - \\hat{Y}^{(i)})X_j^{(i)}\\$\\$  \n"
   ]
  },
  {
   "cell_type": "code",
   "execution_count": 8,
   "metadata": {},
   "outputs": [],
   "source": [
    "#todo\n",
    "# ecrire la fonction derivees qui calcule les dérivées partielles par rapport à chaque parametre du modèle\n",
    "def derivees_partielles(X, Y, a):\n",
    "    \"\"\"\n",
    "    Calculer  derivées paertielles.\n",
    "     \n",
    "    Args:\n",
    "      X (ndarray : Data, n examples \n",
    "      Y (ndarray): Label, n labels   \n",
    "      a          : model parameters  \n",
    "    \n",
    "    Returns\n",
    "        derivees\n",
    "    \"\"\"\n",
    "   \n",
    "    \n",
    "    return derivees\n",
    " "
   ]
  },
  {
   "cell_type": "markdown",
   "metadata": {},
   "source": [
    "### III-8.  l'algorithme de descente de gradient"
   ]
  },
  {
   "cell_type": "markdown",
   "metadata": {},
   "source": [
    "#### Types des algorithmes de descente de gradient\n",
    "Il existe 3 types d'algorithmes de descente de gradient\n",
    "\n",
    "##### 1- Descente de gradient par batch\n",
    "   Tous les exemples sont pris en considération durant chaque itération. On prend la moyenne du gradient de tous les exemples et on utilise cette moyenne pour la mise à jour des paramètres. \n",
    "\n",
    "##### 2- Descente de gradient mini batch\n",
    "  On utilise un batch constitué d’un nombre réduit de tous les exemples d’où le nom mini batch. Durant chaque itération, on choisit un mini batch, on calcule la moyenne du gradient de ce mini batch et on met à jour les paramètres du modèle . Pour la prochaine itération, on choisit un autre mini batch et ainsi de suite. \n",
    "\n",
    "##### 3- Descente de gradient stochastique\n",
    "  Dans une itération, un exemple est choisi aléatoirement du dataset et le gradient de cet exemple est utilisé pour mettre à jour les paramètres du modèle. Dans la prochaine itération, un autre exemple est choisi et ainsi de suite. \n"
   ]
  },
  {
   "cell_type": "markdown",
   "metadata": {},
   "source": [
    "###  Vous allez implementer dans ce TP l'algorithme de descente de gradient par Batch"
   ]
  },
  {
   "cell_type": "code",
   "execution_count": 11,
   "metadata": {},
   "outputs": [],
   "source": [
    "# initialisation des parametres\n",
    "# a est un vecteur contenant les valeurs initiales des paramètres aj \n",
    "a = np.zeros(X_train.shape[1] + 1)\n",
    "# alpha est le learning rate\n",
    "alpha=0.01\n",
    "#max_inter est le nombre max des itérations\n",
    "max_iter=300\n",
    "\n",
    "# todo \n",
    "#lancer l'algorithme de descente du gradient\n",
    "def gradient_descent(X, Y, a,alpha,max_iter):\n",
    "    \n",
    "    \"\"\"\n",
    "    MAJ des parametres du modele\n",
    "    Calcul de Cost \n",
    "    Args:\n",
    "      X (ndarray : Data, n examples \n",
    "      Y (ndarray): Label, n labels   \n",
    "      a          : model parameters  \n",
    "      alpha: learning rate\n",
    "      max_iter   : maxumum number of iterations\n",
    "   \n",
    "    \n",
    "    Returns\n",
    "        new_a, Cost\n",
    "    \"\"\"\n",
    "    Costs = []  # pour sauvgarder Cost\n",
    "  \n",
    "    \n",
    "    return new_a, Costs\n"
   ]
  },
  {
   "cell_type": "code",
   "execution_count": 228,
   "metadata": {},
   "outputs": [
    {
     "name": "stdout",
     "output_type": "stream",
     "text": [
      "(66, 4) (66, 5) (66, 1)\n"
     ]
    }
   ],
   "source": [
    "y_train=np.array(y_train).reshape(-1,1)\n",
    "print(X_train.shape,XX_train.shape,y_train.shape)"
   ]
  },
  {
   "cell_type": "code",
   "execution_count": null,
   "metadata": {},
   "outputs": [],
   "source": [
    "### III-6. régression lineaire multiple avec l'Algorithme de déscente du gradient"
   ]
  },
  {
   "cell_type": "code",
   "execution_count": 229,
   "metadata": {},
   "outputs": [
    {
     "name": "stdout",
     "output_type": "stream",
     "text": [
      "(66, 5)\n"
     ]
    }
   ],
   "source": [
    "XX_train=np.c_[np.ones(X_train.shape[0]),X_train]\n",
    "print(XX_train.shape)"
   ]
  },
  {
   "cell_type": "code",
   "execution_count": 230,
   "metadata": {},
   "outputs": [
    {
     "name": "stderr",
     "output_type": "stream",
     "text": [
      "C:\\Users\\HP\\Anaconda3\\lib\\site-packages\\ipykernel_launcher.py:21: RuntimeWarning: overflow encountered in square\n"
     ]
    }
   ],
   "source": [
    "[new_a,Cost]=gradient_descent(XX_train, y_train, a,alpha,1000)"
   ]
  },
  {
   "cell_type": "code",
   "execution_count": 231,
   "metadata": {},
   "outputs": [],
   "source": [
    "###  L'algorithme ne marche pas.   Que faut t'il faire?"
   ]
  },
  {
   "cell_type": "code",
   "execution_count": 256,
   "metadata": {},
   "outputs": [],
   "source": [
    "#todo\n",
    " \n"
   ]
  },
  {
   "cell_type": "code",
   "execution_count": 257,
   "metadata": {},
   "outputs": [],
   "source": [
    "### Afficher la courbe de la fonction coût en fonction des itérations"
   ]
  },
  {
   "cell_type": "code",
   "execution_count": null,
   "metadata": {},
   "outputs": [],
   "source": [
    "pl.plot(Cost)\n",
    "pl.show()\n",
    "print (\"les parametres du modèle sont:\", new_a)"
   ]
  },
  {
   "cell_type": "code",
   "execution_count": 259,
   "metadata": {},
   "outputs": [],
   "source": [
    "###  Est ce que le nombre des itérations est bon? \n",
    "###  pourquoi?\n"
   ]
  },
  {
   "cell_type": "code",
   "execution_count": 262,
   "metadata": {},
   "outputs": [],
   "source": [
    "# TODO : Tester d'autres valeurs du learning_rate :   0.1,   0.05,  0.01\n",
    "\n",
    "\n",
    "\n"
   ]
  },
  {
   "cell_type": "code",
   "execution_count": null,
   "metadata": {},
   "outputs": [],
   "source": [
    "# todo\n",
    "# Affichage des courbes des coûts pou chaque learning rate:"
   ]
  },
  {
   "cell_type": "code",
   "execution_count": null,
   "metadata": {},
   "outputs": [],
   "source": [
    "# todo\n",
    "# tester une initialisation aléatoire, une initialisation à 1 pour le vecteur a en fixant le rate learning à 0.01 et le max_iteration à 200\n",
    "# afficher les courbes des trois initialisations de a "
   ]
  },
  {
   "cell_type": "code",
   "execution_count": 263,
   "metadata": {},
   "outputs": [],
   "source": [
    "%matplotlib qt\n",
    "# plot predictions and targets vs original features    \n",
    "fig,ax=pl.subplots(1,4,figsize=(12,3),sharey=True)\n",
    "X_train=np.array(X_train)\n",
    "\n",
    "\n",
    "for i in range(len(ax)):\n",
    "     \n",
    "    ax[i].scatter(X_train[:10,i],y_train[:10], label = 'target')\n",
    "    ax[i].set_xlabel(features[i])\n",
    "    ax[i].scatter(X_train[:10,i],y_hat[:10],color='red', label = 'predict')\n",
    "\n",
    "ax[0].set_ylabel(\"Price\"); ax[0].legend();\n",
    "fig.suptitle(\"Regression lineaire multiple avec l'algorithme de descente du gradient\")\n",
    "pl.show()"
   ]
  },
  {
   "cell_type": "code",
   "execution_count": null,
   "metadata": {},
   "outputs": [],
   "source": [
    "### III-9. régression lineaire multiple avec sklearn et Stochastic Gradient Descent Regressor"
   ]
  },
  {
   "cell_type": "code",
   "execution_count": null,
   "metadata": {},
   "outputs": [],
   "source": [
    "### III-9-1 Déterminsation du modèle de regression"
   ]
  },
  {
   "cell_type": "code",
   "execution_count": 265,
   "metadata": {},
   "outputs": [
    {
     "name": "stdout",
     "output_type": "stream",
     "text": [
      "model paraeters:                   w: [106.9013781  -23.53610257 -33.18601128 -37.55148086], b:[369.4385887]\n"
     ]
    }
   ],
   "source": [
    "from sklearn.preprocessing import StandardScaler  # normalisation\n",
    "scaler = StandardScaler()\n",
    "X_norm = scaler.fit_transform(X_train)\n",
    "from sklearn.linear_model import SGDRegressor\n",
    "sgdr = SGDRegressor(max_iter=1000)\n",
    "\n",
    "sgdr.fit(Xnorm, y_train.ravel())\n",
    "b = sgdr.intercept_\n",
    "w = sgdr.coef_\n",
    "print(f\"model paraeters:                   w: {w}, b:{b}\")\n"
   ]
  },
  {
   "cell_type": "code",
   "execution_count": 252,
   "metadata": {},
   "outputs": [],
   "source": [
    "### III-6-2  Prédiction "
   ]
  },
  {
   "cell_type": "code",
   "execution_count": 253,
   "metadata": {},
   "outputs": [
    {
     "name": "stdout",
     "output_type": "stream",
     "text": [
      "Prediction sgd regression on training set:\n",
      " [367.70036679 216.75417537 429.1586239  342.01816785]\n",
      "Target values \n",
      " [[334. ]\n",
      " [219.8]\n",
      " [449.8]\n",
      " [354. ]]\n",
      "source values \n",
      " [[1.486e+03 3.000e+00 1.000e+00 5.700e+01]\n",
      " [9.040e+02 3.000e+00 1.000e+00 5.500e+01]\n",
      " [1.768e+03 3.000e+00 2.000e+00 1.800e+01]\n",
      " [1.470e+03 3.000e+00 2.000e+00 2.400e+01]]\n"
     ]
    }
   ],
   "source": [
    "y_pred=sgdr.predict(Xnorm)\n",
    "print(f\"Prediction sgd regression on training set:\\n {sgdr.predict(Xnorm)[:4]}\" )\n",
    " \n",
    "print(f\"Target values \\n {y_train[:4]}\")\n",
    "print(f\"source values \\n {X_train[:4]}\")"
   ]
  },
  {
   "cell_type": "code",
   "execution_count": null,
   "metadata": {},
   "outputs": [],
   "source": [
    "# todo\n",
    "# faire la prédiction sur le test set"
   ]
  },
  {
   "cell_type": "code",
   "execution_count": null,
   "metadata": {},
   "outputs": [],
   "source": []
  }
 ],
 "metadata": {
  "kernelspec": {
   "display_name": "Python 3",
   "language": "python",
   "name": "python3"
  },
  "language_info": {
   "codemirror_mode": {
    "name": "ipython",
    "version": 3
   },
   "file_extension": ".py",
   "mimetype": "text/x-python",
   "name": "python",
   "nbconvert_exporter": "python",
   "pygments_lexer": "ipython3",
   "version": "3.7.4"
  }
 },
 "nbformat": 4,
 "nbformat_minor": 2
}
